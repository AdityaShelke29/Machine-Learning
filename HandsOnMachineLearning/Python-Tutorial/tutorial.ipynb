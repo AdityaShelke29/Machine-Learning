{
 "cells": [
  {
   "attachments": {},
   "cell_type": "markdown",
   "metadata": {},
   "source": [
    "# Python Tutorial\n",
    "## This is a sub-heading 2.\n",
    "### This is a sub-heading 3.\n",
    "\n",
    "*This is italics.*\n",
    "\n",
    "[This is a link.](google.com)\n",
    "\n",
    "* This is the first bullet point. \n",
    "* This is the second bullet point. \n",
    "* This is the third bullet point. \n",
    "\n",
    "1. This is the first point. \n",
    "2. This is the second point. \n",
    "3. This is the third point. \n",
    "\n",
    "This is how to do exponents. $x^{n} + y^n - 1 = 0$"
   ]
  },
  {
   "cell_type": "code",
   "execution_count": 96,
   "metadata": {},
   "outputs": [],
   "source": [
    "# Shows all outputs from each cell in the Jupyter Notebook, not only the last one. \n",
    "\n",
    "from IPython.core.interactiveshell import InteractiveShell\n",
    "InteractiveShell.ast_node_interactivity = \"all\""
   ]
  },
  {
   "cell_type": "code",
   "execution_count": 97,
   "metadata": {},
   "outputs": [
    {
     "data": {
      "text/plain": [
       "[1, 2, 3]"
      ]
     },
     "execution_count": 97,
     "metadata": {},
     "output_type": "execute_result"
    },
    {
     "data": {
      "text/plain": [
       "[4, 5, 'hello']"
      ]
     },
     "execution_count": 97,
     "metadata": {},
     "output_type": "execute_result"
    },
    {
     "data": {
      "text/plain": [
       "[1, 3, 5]"
      ]
     },
     "execution_count": 97,
     "metadata": {},
     "output_type": "execute_result"
    },
    {
     "data": {
      "text/plain": [
       "['hello', 5, 4, 3, 2, 1]"
      ]
     },
     "execution_count": 97,
     "metadata": {},
     "output_type": "execute_result"
    },
    {
     "name": "stdout",
     "output_type": "stream",
     "text": [
      "[1, 2, 3, 4, 5, 'hello', 6]\n"
     ]
    }
   ],
   "source": [
    "# There are all the different data types, including integers, floats, booleans, and others. \n",
    "# In order to see the type of a variable, use the type(variableName) method. \n",
    "\n",
    "# Lists and Methods \n",
    "list = [1, 2, 3, 4, 5, \"hello\"]\n",
    "\n",
    "list[:3] # Beginning of List \n",
    "list[3:] # Ending of List \n",
    "\n",
    "list[::2]   # Returns every second element of the list. \n",
    "list[::-1]  # Returns every element of the list, but backwards. \n",
    "\n",
    "list.append(6)\n",
    "print(list)\n"
   ]
  },
  {
   "cell_type": "code",
   "execution_count": 98,
   "metadata": {},
   "outputs": [
    {
     "data": {
      "text/plain": [
       "(1, 2, 3)"
      ]
     },
     "execution_count": 98,
     "metadata": {},
     "output_type": "execute_result"
    },
    {
     "data": {
      "text/plain": [
       "(1, 3, 5)"
      ]
     },
     "execution_count": 98,
     "metadata": {},
     "output_type": "execute_result"
    }
   ],
   "source": [
    "# Tuples and Sets and Methods\n",
    "\n",
    "# Tuples are immutable, although they can be indexed and subsections can be found. \n",
    "tuple = (1, 2, 3, 4, 5, \"hello\")\n",
    "tuple[:3]\n",
    "tuple[::2]\n",
    "\n",
    "# Sets are immutable\n",
    "set = {\"first\", \"second\", \"third\"}"
   ]
  },
  {
   "cell_type": "code",
   "execution_count": 99,
   "metadata": {},
   "outputs": [
    {
     "data": {
      "text/plain": [
       "'value'"
      ]
     },
     "execution_count": 99,
     "metadata": {},
     "output_type": "execute_result"
    },
    {
     "data": {
      "text/plain": [
       "['more', 'than', 'one', 'value', 'per', 'key']"
      ]
     },
     "execution_count": 99,
     "metadata": {},
     "output_type": "execute_result"
    }
   ],
   "source": [
    "# Dictionaries and Methods\n",
    "\n",
    "dictionary = {\"key\":\"value\", \"multiple_values\":[\"more\", \"than\", \"one\", \"value\", \"per\", \"key\"]}\n",
    "\n",
    "dictionary[\"key\"]\n",
    "dictionary.get(\"multiple_values\")"
   ]
  },
  {
   "cell_type": "code",
   "execution_count": 100,
   "metadata": {},
   "outputs": [
    {
     "data": {
      "text/plain": [
       "6"
      ]
     },
     "execution_count": 100,
     "metadata": {},
     "output_type": "execute_result"
    },
    {
     "data": {
      "text/plain": [
       "33"
      ]
     },
     "execution_count": 100,
     "metadata": {},
     "output_type": "execute_result"
    }
   ],
   "source": [
    "# Functions in Python \n",
    "\n",
    "def function_name(x, y, z):\n",
    "\treturn x + y + z # The \"return\" tells Python what to output from a function\n",
    "\n",
    "function_name(x = 1, y = 2, z = 3) # This is how we call a function\n",
    "function_name(1, 2, 30) # You can also call it like this by letting Python assume your arguments are in order "
   ]
  },
  {
   "cell_type": "code",
   "execution_count": 101,
   "metadata": {},
   "outputs": [
    {
     "name": "stdout",
     "output_type": "stream",
     "text": [
      "10\n",
      "5\n",
      "The iterator is between 3 and 100.\n",
      "Cannot divide by zero.\n",
      "This is another way to catch an exception in Python. Equivalent of catching an exception in Java.\n"
     ]
    }
   ],
   "source": [
    "# Control Statements \n",
    "\n",
    "# For Loops and Range Function\n",
    "iterator = 0\n",
    "\n",
    "for i in range(0, 10):\n",
    "    iterator = iterator + 1\n",
    "\n",
    "print(iterator)\n",
    "\n",
    "# While Loops \n",
    "while iterator > 5:\n",
    "    iterator = iterator - 1\n",
    "\n",
    "print(iterator)\n",
    "\n",
    "# If Then Conditionals\n",
    "if (iterator > 100):\n",
    "    print(\"The iterator is greater than 100.\")\n",
    "elif (3 < iterator <= 100):\n",
    "    print(\"The iterator is between 3 and 100.\")\n",
    "else:\n",
    "    print(\"The iterator is less than or equal to 3.\")\n",
    "\n",
    "# Catching Exceptions\n",
    "try:\n",
    "    number = 2 / 0\n",
    "except ZeroDivisionError:\n",
    "    print(\"Cannot divide by zero.\")\n",
    "\n",
    "try:\n",
    "    number = 2 / 0\n",
    "except:\n",
    "    print(\"This is another way to catch an exception in Python. Equivalent of catching an exception in Java.\")"
   ]
  },
  {
   "cell_type": "code",
   "execution_count": 102,
   "metadata": {},
   "outputs": [
    {
     "data": {
      "text/plain": [
       "9"
      ]
     },
     "execution_count": 102,
     "metadata": {},
     "output_type": "execute_result"
    }
   ],
   "source": [
    "# Lambda Functions\n",
    "\n",
    "adder =  lambda x, y: x + y\n",
    "\n",
    "adder(4, 5)"
   ]
  }
 ],
 "metadata": {
  "kernelspec": {
   "display_name": "Python 3",
   "language": "python",
   "name": "python3"
  },
  "language_info": {
   "codemirror_mode": {
    "name": "ipython",
    "version": 3
   },
   "file_extension": ".py",
   "mimetype": "text/x-python",
   "name": "python",
   "nbconvert_exporter": "python",
   "pygments_lexer": "ipython3",
   "version": "3.10.6 (v3.10.6:9c7b4bd164, Aug  1 2022, 17:13:48) [Clang 13.0.0 (clang-1300.0.29.30)]"
  },
  "orig_nbformat": 4,
  "vscode": {
   "interpreter": {
    "hash": "aee8b7b246df8f9039afb4144a1f6fd8d2ca17a180786b69acc140d282b71a49"
   }
  }
 },
 "nbformat": 4,
 "nbformat_minor": 2
}
