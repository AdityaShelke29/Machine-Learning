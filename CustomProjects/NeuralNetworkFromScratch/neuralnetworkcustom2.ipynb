{
 "cells": [
  {
   "cell_type": "code",
   "execution_count": 29,
   "metadata": {},
   "outputs": [
    {
     "name": "stdout",
     "output_type": "stream",
     "text": [
      "Training the Dataset Now\n",
      "Epoch -1: 910 / 10000\n",
      "Epoch 0 : 8930 / 10000\n",
      "Epoch 1 : 9067 / 10000\n",
      "Epoch 2 : 9126 / 10000\n",
      "Epoch 3 : 9138 / 10000\n",
      "Epoch 4 : 9187 / 10000\n",
      "Epoch 5 : 9272 / 10000\n",
      "Epoch 6 : 9152 / 10000\n",
      "Epoch 7 : 9256 / 10000\n",
      "Epoch 8 : 9277 / 10000\n",
      "Epoch 9 : 9290 / 10000\n"
     ]
    }
   ],
   "source": [
    "# Custom Neural Network For Digit Classification\n",
    "\n",
    "# Imports and \n",
    "import numpy as np\n",
    "import random\n",
    "\n",
    "import pickle\n",
    "import gzip\n",
    "\n",
    "from matplotlib import pyplot as plt\n",
    "\n",
    "class Network(object): \n",
    "    # The following class works to create a neural network that has \n",
    "    # the goal of classifying digits. It has been developed with help \n",
    "    # from http://neuralnetworksanddeeplearning.com/chap1.html as \n",
    "    # well as the following video series from 3Blue1Brown, at \n",
    "    # https://www.youtube.com/watch?v=aircAruvnKk. \n",
    "\n",
    "    # INITIALIZATION OF THE NETWORK CLASS (CONSTRUCTOR) \n",
    "    # ----------------------------------------------------------------------------------------------\n",
    "\n",
    "    def __init__(self, sizes): \n",
    "        self.num_layers = len(sizes)\n",
    "        self.sizes = sizes\n",
    "        self.biases = []\n",
    "        self.weights = []\n",
    "\n",
    "        for y in sizes[1:]:\n",
    "            self.biases.append(np.random.randn(y, 1))\n",
    "        \n",
    "        for x, y in zip(sizes[:-1], sizes[1:]):\n",
    "            self.weights.append(np.random.randn(y, x))\n",
    "\n",
    "    # ----------------------------------------------------------------------------------------------\n",
    "\n",
    "    # Note that for the feedforward() function, a, which is the input \n",
    "    # vector modelling the input parameters of a particular data sample, \n",
    "    # has to be passed in as an (n x 1) vector, meaning it is a 2D array. \n",
    "\n",
    "    # FUNCTION 1: feedforward() \n",
    "    # ----------------------------------------------------------------------------------------------\n",
    "    def feedforward(self, a): \n",
    "        for b, w in zip(self.biases, self.weights): \n",
    "            a = sigmoid(np.dot(w, a) + b)\n",
    "        \n",
    "        return a\n",
    "\n",
    "    # ----------------------------------------------------------------------------------------------\n",
    "\n",
    "    # Here, x is an (n x 1) vector representing the input parameters \n",
    "    # for a specific data value. This vector, as it is the input vector, \n",
    "    # is also the vector representing the activations of the first \n",
    "    # layer. \n",
    "    \n",
    "    # FUNCTION 2: backpropagation()\n",
    "    # ----------------------------------------------------------------------------------------------\n",
    "    def backpropagation(self, x, y): \n",
    "\n",
    "        # These are the arrays storing the gradients to change the \n",
    "        # weights and biases by. They are very interesting and \n",
    "        # very useful. \n",
    "\n",
    "        gradient_weights = []\n",
    "        gradient_biases = []\n",
    "\n",
    "        # The following code works to find all the activations in the \n",
    "        # network. This allows backpropagation to function correctly \n",
    "        # later. The activations are then placed in \n",
    "        currentactivation = x\n",
    "        activations = [x]\n",
    "        z_values = []\n",
    "\n",
    "        for b, w in zip(self.biases, self.weights): \n",
    "\n",
    "            # At this point, currentactivation is the z value for \n",
    "            # that layer. It is appended to array z_values. \n",
    "            currentactivation = np.dot(w, currentactivation) + b\n",
    "            z_values.append(currentactivation)\n",
    "\n",
    "            # Here, currentactivation then has the sigmoid function \n",
    "            # applied to it, and is the vector of activations. It \n",
    "            # is appended to the array activations. \n",
    "            currentactivation = sigmoid(currentactivation)\n",
    "            activations.append(currentactivation)\n",
    "        \n",
    "        # Here, we calculate the error in the last layer, and use that information \n",
    "        # to calculate the needed change in weights and costs, gradient_weights \n",
    "        # and gradient_costs, to the network. \n",
    "        current_error = (activations[-1] - y) * sigmoid_derivative(z_values[-1])\n",
    "        gradient_weights.insert(0, np.dot(current_error, activations[-2].transpose()))\n",
    "        gradient_biases.insert(0, current_error)\n",
    "\n",
    "        # Now, backpropagation begins and continutes until the first layer. \n",
    "\n",
    "        for layer in range(2, self.num_layers): \n",
    "            current_error = np.dot(np.transpose(self.weights[-layer + 1]), current_error) \\\n",
    "                * sigmoid_derivative(z_values[-layer])\n",
    "            \n",
    "            gradient_biases.insert(0, current_error)\n",
    "            gradient_weights.insert(0, np.dot(current_error, \n",
    "                np.transpose(activations[-layer-1])))\n",
    "\n",
    "        return (gradient_biases, gradient_weights)\n",
    "\n",
    "    # ----------------------------------------------------------------------------------------------\n",
    "\n",
    "    # FUNCTION 3: update_batch()\n",
    "    # ----------------------------------------------------------------------------------------------\n",
    "    def update_batch(self, batch, learning_rate): \n",
    "        # Here, we will create the combined gradient matrices. \n",
    "\n",
    "        gradient_biases = [np.zeros(b.shape) for b in self.biases]\n",
    "        gradient_weights = [np.zeros(w.shape) for w in self.weights]\n",
    "\n",
    "        # We iterate through every data point in the batch, and use the \n",
    "        # backpropagation method to find the gradient that the biases \n",
    "        # and weights should change by. Then, it \n",
    "\n",
    "        for x, y in batch: \n",
    "            delta_gradient_biases, delta_gradient_weights = self.backpropagation(x, y)\n",
    "\n",
    "            # Iterates through the bias gradient for the current data point \n",
    "            # in the batch, and then adds it to the summmed up bias gradient \n",
    "            # array, which is gradient_biases. \n",
    "\n",
    "            gradient_biases = [nb+dnb for nb, dnb in zip(gradient_biases, delta_gradient_biases)]\n",
    "\n",
    "            # Iterates through the weight gradient for the current data point \n",
    "            # in the batch, and then adds it to the summmed up weight gradient \n",
    "            # array, which is weight_biases. \n",
    "\n",
    "            gradient_weights = [nb+dnb for nb, dnb in zip(gradient_weights, delta_gradient_weights)]\n",
    "        \n",
    "        self.weights = [original_weights - (learning_rate/len(batch)) * shift_weights\n",
    "            for original_weights, shift_weights in zip(self.weights, gradient_weights)]\n",
    "        \n",
    "        self.biases = [original_biases - (learning_rate/len(batch)) * shift_biases\n",
    "            for original_biases, shift_biases in zip(self.biases, gradient_biases)]\n",
    "\n",
    "    # ----------------------------------------------------------------------------------------------\n",
    "\n",
    "    # FUNCTION 4: stochasticgradientdescent() \n",
    "    # ----------------------------------------------------------------------------------------------\n",
    "    def stochasticgradientdescent(self, training_data, num_epochs, batch_size, learning_rate, test_data): \n",
    "\n",
    "        dataBeingTested = True\n",
    "\n",
    "        if dataBeingTested: \n",
    "            # test_data = list(test_data)\n",
    "            lengthTestData = len(test_data)\n",
    "\n",
    "\n",
    "        for epoch in range(num_epochs): \n",
    "            i = 0\n",
    "            random.shuffle(training_data)\n",
    "\n",
    "            batches = [training_data[start: start + batch_size] \n",
    "                       for start in range(0, len(training_data), batch_size)]\n",
    "\n",
    "            for batch in batches: \n",
    "                # print(\"Batch \" + str(i) + \" is being run.\")\n",
    "                self.update_batch(batch, learning_rate)\n",
    "                i = i + 1\n",
    "                \n",
    "            \n",
    "            if dataBeingTested: \n",
    "                print(\"Epoch {} : {} / {}\".format(epoch, self.evaluate(test_data), lengthTestData))\n",
    "            else: \n",
    "                print(\"Epoch %s completed. Let's gooooo.\"%(str(epoch)))\n",
    "\n",
    "    # ----------------------------------------------------------------------------------------------\n",
    "    \n",
    "    # FUNCTION 5: evaluate()\n",
    "    # ----------------------------------------------------------------------------------------------\n",
    "    def evaluate(self, test_data): \n",
    "\n",
    "        num_correct = 0\n",
    "\n",
    "        for (input, output) in test_data: \n",
    "            test_result = self.feedforward(input)\n",
    "\n",
    "            calculated_activation = 0\n",
    "            calculated_output = 0\n",
    "\n",
    "            for x in range(len(test_result)): \n",
    "                if (test_result[x][0] > calculated_activation): \n",
    "                    calculated_output = x\n",
    "                    calculated_activation = test_result[x]\n",
    "            \n",
    "            if (calculated_output == output): \n",
    "                num_correct = num_correct + 1\n",
    "        \n",
    "        return num_correct\n",
    "\n",
    "    # ----------------------------------------------------------------------------------------------\n",
    "\n",
    "    # FUNCTION 6: test_example()\n",
    "    # ----------------------------------------------------------------------------------------------\n",
    "    def test_example(self, test): \n",
    "        test_result = self.feedforward(test[0])\n",
    "\n",
    "        calculated_activation = 0\n",
    "        calculated_output = 0\n",
    "\n",
    "        for x in range(len(test_result)): \n",
    "            if (test_result[x][0] > calculated_activation): \n",
    "                calculated_output = x\n",
    "                calculated_activation = test_result[x]\n",
    "        \n",
    "        print(\"Neural Network Prediciton: \" + str(calculated_output))\n",
    "        print(\"Actual Written Number: \" + str(test[1]) + \"\\n\")\n",
    "\n",
    "        if (calculated_output == test[1]): \n",
    "            return 1\n",
    "        else: \n",
    "            return 0\n",
    "\n",
    "    # ----------------------------------------------------------------------------------------------\n",
    "    \n",
    "    # FUNCTION 7: print2DArray() \n",
    "    # ----------------------------------------------------------------------------------------------\n",
    "    def print2DArray(self, array):\n",
    "        numRows = len(array)\n",
    "        numColumns = len(array[0])\n",
    "\n",
    "        for x in range(numRows):\n",
    "            print(\"[\")\n",
    "            for y in range(numColumns):\n",
    "                print(str(array[x][y]) + \", \")\n",
    "            print(\"]\\n\")\n",
    "\n",
    "    # ----------------------------------------------------------------------------------------------\n",
    "\n",
    "    # FUNCTION 8: print1DArray()\n",
    "    # ----------------------------------------------------------------------------------------------\n",
    "    def print1DArray(self, array):\n",
    "        numElements = len(array)\n",
    "        print(\"[\")\n",
    "        for x in range(numElements):\n",
    "            print(str(array[x]) + \", \")\n",
    "        print(\"]\\n\")\n",
    "\n",
    "    # ----------------------------------------------------------------------------------------------\n",
    "    \n",
    "# FUNCTION 9: sigmoid(z)\n",
    "# --------------------------------------------------------------------------------------------------\n",
    "def sigmoid(z): \n",
    "    return 1.0/(1.0 + np.exp(-z))\n",
    "# --------------------------------------------------------------------------------------------------\n",
    "\n",
    "# FUNCTION 10: sigmoid_derivative(z)\n",
    "# --------------------------------------------------------------------------------------------------\n",
    "def sigmoid_derivative(z): \n",
    "    return np.exp(-z) / (1 + 2*np.exp(-z) + np.exp(-2 * z))\n",
    "\n",
    "# --------------------------------------------------------------------------------------------------\n",
    "\n",
    "# FUNCTION 11: create_result_vector() \n",
    "# --------------------------------------------------------------------------------------------------\n",
    "def create_result_vector(position): \n",
    "    vector = np.zeros((10, 1))\n",
    "    vector[position] = 1.0\n",
    "    return vector\n",
    "\n",
    "# --------------------------------------------------------------------------------------------------\n",
    "\n",
    "# MAIN CODE \n",
    "# --------------------------------------------------------------------------------------------------\n",
    "\n",
    "f = gzip.open('./mnist.pkl.gz', 'rb')\n",
    "training_data, validation_data, test_data = pickle.load(f, encoding = \"latin1\")\n",
    "f.close()\n",
    "\n",
    "training_inputs = [np.reshape(x, (784, 1)) for x in training_data[0]]\n",
    "training_results = [create_result_vector(y) for y in training_data[1]]\n",
    "training_data = zip(training_inputs, training_results)\n",
    "training_data = list(training_data)\n",
    "\n",
    "validation_inputs = [np.reshape(x, (784, 1)) for x in validation_data[0]]\n",
    "validation_data = zip(validation_inputs, validation_data[1])\n",
    "\n",
    "test_inputs = [np.reshape(x, (784, 1)) for x in test_data[0]]\n",
    "test_data = zip(test_inputs, test_data[1])\n",
    "test_data = list(test_data)\n",
    "\n",
    "validation_data = list(validation_data)\n",
    "\n",
    "network = Network([784, 16, 16, 10])\n",
    "print(\"Training the Dataset Now\")\n",
    "print(\"Epoch -1: {} / {}\".format(str(network.evaluate(test_data)), len(test_data)))\n",
    "network.stochasticgradientdescent(training_data, 10, 10, 3.0, test_data = test_data)"
   ]
  },
  {
   "cell_type": "code",
   "execution_count": 30,
   "metadata": {},
   "outputs": [
    {
     "data": {
      "image/png": "[encoded data removed]",
      "text/plain": [
       "<Figure size 200x200 with 1 Axes>"
      ]
     },
     "metadata": {},
     "output_type": "display_data"
    },
    {
     "name": "stdout",
     "output_type": "stream",
     "text": [
      "Neural Network Prediciton: 9\n",
      "Actual Written Number: 9\n",
      "\n"
     ]
    },
    {
     "data": {
      "image/png": "[encoded data removed]",
      "text/plain": [
       "<Figure size 200x200 with 1 Axes>"
      ]
     },
     "metadata": {},
     "output_type": "display_data"
    },
    {
     "name": "stdout",
     "output_type": "stream",
     "text": [
      "Neural Network Prediciton: 7\n",
      "Actual Written Number: 7\n",
      "\n"
     ]
    },
    {
     "data": {
      "image/png": "[encoded data removed]",
      "text/plain": [
       "<Figure size 200x200 with 1 Axes>"
      ]
     },
     "metadata": {},
     "output_type": "display_data"
    },
    {
     "name": "stdout",
     "output_type": "stream",
     "text": [
      "Neural Network Prediciton: 7\n",
      "Actual Written Number: 7\n",
      "\n"
     ]
    },
    {
     "data": {
      "image/png": "[encoded data removed]",
      "text/plain": [
       "<Figure size 200x200 with 1 Axes>"
      ]
     },
     "metadata": {},
     "output_type": "display_data"
    },
    {
     "name": "stdout",
     "output_type": "stream",
     "text": [
      "Neural Network Prediciton: 7\n",
      "Actual Written Number: 7\n",
      "\n"
     ]
    },
    {
     "data": {
      "image/png": "[encoded data removed]",
      "text/plain": [
       "<Figure size 200x200 with 1 Axes>"
      ]
     },
     "metadata": {},
     "output_type": "display_data"
    },
    {
     "name": "stdout",
     "output_type": "stream",
     "text": [
      "Neural Network Prediciton: 3\n",
      "Actual Written Number: 3\n",
      "\n"
     ]
    },
    {
     "data": {
      "image/png": "[encoded data removed]",
      "text/plain": [
       "<Figure size 200x200 with 1 Axes>"
      ]
     },
     "metadata": {},
     "output_type": "display_data"
    },
    {
     "name": "stdout",
     "output_type": "stream",
     "text": [
      "Neural Network Prediciton: 2\n",
      "Actual Written Number: 2\n",
      "\n"
     ]
    },
    {
     "data": {
      "image/png": "[encoded data removed]",
      "text/plain": [
       "<Figure size 200x200 with 1 Axes>"
      ]
     },
     "metadata": {},
     "output_type": "display_data"
    },
    {
     "name": "stdout",
     "output_type": "stream",
     "text": [
      "Neural Network Prediciton: 3\n",
      "Actual Written Number: 3\n",
      "\n"
     ]
    },
    {
     "data": {
      "image/png": "[encoded data removed]",
      "text/plain": [
       "<Figure size 200x200 with 1 Axes>"
      ]
     },
     "metadata": {},
     "output_type": "display_data"
    },
    {
     "name": "stdout",
     "output_type": "stream",
     "text": [
      "Neural Network Prediciton: 3\n",
      "Actual Written Number: 3\n",
      "\n"
     ]
    },
    {
     "data": {
      "image/png": "[encoded data removed]",
      "text/plain": [
       "<Figure size 200x200 with 1 Axes>"
      ]
     },
     "metadata": {},
     "output_type": "display_data"
    },
    {
     "name": "stdout",
     "output_type": "stream",
     "text": [
      "Neural Network Prediciton: 7\n",
      "Actual Written Number: 7\n",
      "\n"
     ]
    },
    {
     "data": {
      "image/png": "[encoded data removed]",
      "text/plain": [
       "<Figure size 200x200 with 1 Axes>"
      ]
     },
     "metadata": {},
     "output_type": "display_data"
    },
    {
     "name": "stdout",
     "output_type": "stream",
     "text": [
      "Neural Network Prediciton: 9\n",
      "Actual Written Number: 5\n",
      "\n"
     ]
    },
    {
     "data": {
      "image/png": "[encoded data removed]",
      "text/plain": [
       "<Figure size 200x200 with 1 Axes>"
      ]
     },
     "metadata": {},
     "output_type": "display_data"
    },
    {
     "name": "stdout",
     "output_type": "stream",
     "text": [
      "Neural Network Prediciton: 7\n",
      "Actual Written Number: 7\n",
      "\n"
     ]
    },
    {
     "data": {
      "image/png": "[encoded data removed]",
      "text/plain": [
       "<Figure size 200x200 with 1 Axes>"
      ]
     },
     "metadata": {},
     "output_type": "display_data"
    },
    {
     "name": "stdout",
     "output_type": "stream",
     "text": [
      "Neural Network Prediciton: 4\n",
      "Actual Written Number: 4\n",
      "\n"
     ]
    },
    {
     "data": {
      "image/png": "[encoded data removed]",
      "text/plain": [
       "<Figure size 200x200 with 1 Axes>"
      ]
     },
     "metadata": {},
     "output_type": "display_data"
    },
    {
     "name": "stdout",
     "output_type": "stream",
     "text": [
      "Neural Network Prediciton: 6\n",
      "Actual Written Number: 6\n",
      "\n"
     ]
    },
    {
     "data": {
      "image/png": "[encoded data removed]",
      "text/plain": [
       "<Figure size 200x200 with 1 Axes>"
      ]
     },
     "metadata": {},
     "output_type": "display_data"
    },
    {
     "name": "stdout",
     "output_type": "stream",
     "text": [
      "Neural Network Prediciton: 8\n",
      "Actual Written Number: 8\n",
      "\n"
     ]
    },
    {
     "data": {
      "image/png": "[encoded data removed]",
      "text/plain": [
       "<Figure size 200x200 with 1 Axes>"
      ]
     },
     "metadata": {},
     "output_type": "display_data"
    },
    {
     "name": "stdout",
     "output_type": "stream",
     "text": [
      "Neural Network Prediciton: 0\n",
      "Actual Written Number: 5\n",
      "\n"
     ]
    },
    {
     "data": {
      "image/png": "[encoded data removed]",
      "text/plain": [
       "<Figure size 200x200 with 1 Axes>"
      ]
     },
     "metadata": {},
     "output_type": "display_data"
    },
    {
     "name": "stdout",
     "output_type": "stream",
     "text": [
      "Neural Network Prediciton: 6\n",
      "Actual Written Number: 6\n",
      "\n"
     ]
    },
    {
     "data": {
      "image/png": "[encoded data removed]",
      "text/plain": [
       "<Figure size 200x200 with 1 Axes>"
      ]
     },
     "metadata": {},
     "output_type": "display_data"
    },
    {
     "name": "stdout",
     "output_type": "stream",
     "text": [
      "Neural Network Prediciton: 2\n",
      "Actual Written Number: 2\n",
      "\n"
     ]
    },
    {
     "data": {
      "image/png": "[encoded data removed]",
      "text/plain": [
       "<Figure size 200x200 with 1 Axes>"
      ]
     },
     "metadata": {},
     "output_type": "display_data"
    },
    {
     "name": "stdout",
     "output_type": "stream",
     "text": [
      "Neural Network Prediciton: 0\n",
      "Actual Written Number: 3\n",
      "\n"
     ]
    },
    {
     "data": {
      "image/png": "[encoded data removed]",
      "text/plain": [
       "<Figure size 200x200 with 1 Axes>"
      ]
     },
     "metadata": {},
     "output_type": "display_data"
    },
    {
     "name": "stdout",
     "output_type": "stream",
     "text": [
      "Neural Network Prediciton: 1\n",
      "Actual Written Number: 1\n",
      "\n"
     ]
    },
    {
     "data": {
      "image/png": "[encoded data removed]",
      "text/plain": [
       "<Figure size 200x200 with 1 Axes>"
      ]
     },
     "metadata": {},
     "output_type": "display_data"
    },
    {
     "name": "stdout",
     "output_type": "stream",
     "text": [
      "Neural Network Prediciton: 8\n",
      "Actual Written Number: 8\n",
      "\n"
     ]
    },
    {
     "data": {
      "image/png": "[encoded data removed]",
      "text/plain": [
       "<Figure size 200x200 with 1 Axes>"
      ]
     },
     "metadata": {},
     "output_type": "display_data"
    },
    {
     "name": "stdout",
     "output_type": "stream",
     "text": [
      "Neural Network Prediciton: 5\n",
      "Actual Written Number: 5\n",
      "\n"
     ]
    },
    {
     "data": {
      "image/png": "[encoded data removed]",
      "text/plain": [
       "<Figure size 200x200 with 1 Axes>"
      ]
     },
     "metadata": {},
     "output_type": "display_data"
    },
    {
     "name": "stdout",
     "output_type": "stream",
     "text": [
      "Neural Network Prediciton: 3\n",
      "Actual Written Number: 3\n",
      "\n"
     ]
    },
    {
     "data": {
      "image/png": "[encoded data removed]",
      "text/plain": [
       "<Figure size 200x200 with 1 Axes>"
      ]
     },
     "metadata": {},
     "output_type": "display_data"
    },
    {
     "name": "stdout",
     "output_type": "stream",
     "text": [
      "Neural Network Prediciton: 4\n",
      "Actual Written Number: 4\n",
      "\n"
     ]
    },
    {
     "data": {
      "image/png": "[encoded data removed]",
      "text/plain": [
       "<Figure size 200x200 with 1 Axes>"
      ]
     },
     "metadata": {},
     "output_type": "display_data"
    },
    {
     "name": "stdout",
     "output_type": "stream",
     "text": [
      "Neural Network Prediciton: 1\n",
      "Actual Written Number: 1\n",
      "\n"
     ]
    },
    {
     "data": {
      "image/png": "[encoded data removed]",
      "text/plain": [
       "<Figure size 200x200 with 1 Axes>"
      ]
     },
     "metadata": {},
     "output_type": "display_data"
    },
    {
     "name": "stdout",
     "output_type": "stream",
     "text": [
      "Neural Network Prediciton: 6\n",
      "Actual Written Number: 6\n",
      "\n",
      "Validation Data Test Overview\n",
      "There were 22 correct predictions.\n",
      "There were 3 incorrect predictions.\n"
     ]
    }
   ],
   "source": [
    "random.shuffle(validation_data)\n",
    "sample_size = 25\n",
    "num_correct = 0\n",
    "\n",
    "for x in range(sample_size): \n",
    "    image = np.array(validation_data[x][0], dtype = 'float') \n",
    "    image = image.reshape((28, 28))\n",
    "    plt.figure(figsize = (2, 2))\n",
    "    plt.imshow(image, cmap = \"gray\")\n",
    "    plt.show()\n",
    "\n",
    "    if (network.test_example(validation_data[x]) == 1): \n",
    "        num_correct = num_correct + 1\n",
    "\n",
    "print(\"Validation Data Test Overview\")\n",
    "print(\"There were \" + str(num_correct) + \" correct predictions.\")\n",
    "print(\"There were \" + str(sample_size - num_correct) + \" incorrect predictions.\")"
   ]
  }
 ],
 "metadata": {
  "kernelspec": {
   "display_name": "Python 3",
   "language": "python",
   "name": "python3"
  },
  "language_info": {
   "codemirror_mode": {
    "name": "ipython",
    "version": 3
   },
   "file_extension": ".py",
   "mimetype": "text/x-python",
   "name": "python",
   "nbconvert_exporter": "python",
   "pygments_lexer": "ipython3",
   "version": "3.10.6"
  },
  "orig_nbformat": 4
 },
 "nbformat": 4,
 "nbformat_minor": 2
}
